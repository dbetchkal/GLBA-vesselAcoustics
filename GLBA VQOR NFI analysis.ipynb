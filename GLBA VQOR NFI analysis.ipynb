{
 "cells": [
  {
   "cell_type": "markdown",
   "id": "af3f07dd",
   "metadata": {},
   "source": [
    "### NFI Cumulative Distribution Function plots for the Glacier Bay VQOR\n",
    "These for GLBARENDU2011 (re-analyzed from original [Lynch E. 2012. *Glacier Bay National Park and Preserve: Acoustical Monitoring 2011*](https://irma.nps.gov/DataStore/Reference/Profile/2268564)) and GLBARENDU2021. <br>"
   ]
  },
  {
   "cell_type": "code",
   "execution_count": 16,
   "id": "dc63c8b5",
   "metadata": {},
   "outputs": [],
   "source": [
    "import numpy as np\n",
    "import pandas as pd\n",
    "import matplotlib.pyplot as plt\n",
    "import geopandas as gpd\n",
    "import os\n",
    "\n",
    "# general NSNSD acoustical tools\n",
    "import sys\n",
    "sys.path.append(r\"C:\\Users\\DBetchkal\\Documents\\PythonScripts\\GITHUB\\iyore\")\n",
    "sys.path.append(r\"C:\\Users\\DBetchkal\\Documents\\PythonScripts\\GITHUB\\soundDB\")\n",
    "sys.path.append(r\"C:\\Users\\DBetchkal\\Documents\\PythonScripts\\GITHUB\\derivedDataFunctions\")\n",
    "import iyore\n",
    "from soundDB import *\n",
    "from derivedDataFunctions import *\n",
    "from merge_SRCID import *\n",
    "\n",
    "\n",
    "def VOQR_cumulative_histogram(ds, unit, site, year):\n",
    "    \n",
    "    '''\n",
    "    Analyze spectrogram annotations for a site to make a CDF plot.\n",
    "    Work under conditions of the GLBA Vessel Operating and Quota Requirements plan.\n",
    "    '''\n",
    "\n",
    "    src = srcid(ds, unit=unit, site=site, year=year).combine()\n",
    "    src_m = merge_SRCID(src) # merging is important because vessels often span multiple hours\n",
    "\n",
    "    # extract only vessel events; a condition of the VQoR\n",
    "    # in this analysis: \n",
    "    #     AIS-derived vessels use a 4-character srcID mapped to MMSI (e.g., '0.702')\n",
    "    #     other vessels have the conventional srcID (i.e., '3.0')\n",
    "    vessel_events = src_m.loc[(src_m.srcID == 3)|(src_m.srcID.astype('str').str.len() == 5), :].copy()\n",
    "\n",
    "    # they must be sorted\n",
    "    vessel_events.sort_index(inplace=True)\n",
    "    \n",
    "    # compute noise-free intervals between all events\n",
    "    nfis = NFI_list(vessel_events, unit=\"hours\")\n",
    "\n",
    "    # for comparing sites a constant number of bins is required; let's use 100\n",
    "    val, base = np.histogram(nfis, bins=np.logspace(-2,2, 100))\n",
    "\n",
    "    #evaluate the cumulative\n",
    "    cumu = np.cumsum(val)/max(np.cumsum(val))\n",
    "    \n",
    "    return base, cumu\n"
   ]
  },
  {
   "cell_type": "markdown",
   "id": "f2c70a0d",
   "metadata": {},
   "source": [
    "### Plot vessel NFIs as Cumulative Distribution Functions"
   ]
  },
  {
   "cell_type": "code",
   "execution_count": 17,
   "id": "77ef6a77",
   "metadata": {},
   "outputs": [
    {
     "data": {
      "application/vnd.jupyter.widget-view+json": {
       "model_id": "",
       "version_major": 2,
       "version_minor": 0
      },
      "text/plain": [
       "  0%|          | 0/1 [00:00<?, ?entries/s]"
      ]
     },
     "metadata": {},
     "output_type": "display_data"
    },
    {
     "data": {
      "application/vnd.jupyter.widget-view+json": {
       "model_id": "",
       "version_major": 2,
       "version_minor": 0
      },
      "text/plain": [
       "  0%|          | 0/1 [00:00<?, ?entries/s]"
      ]
     },
     "metadata": {},
     "output_type": "display_data"
    },
    {
     "data": {
      "image/png": "[encoded data removed]",
      "text/plain": [
       "<Figure size 504x252 with 1 Axes>"
      ]
     },
     "metadata": {
      "needs_background": "light"
     },
     "output_type": "display_data"
    }
   ],
   "source": [
    "ds = iyore.Dataset(r\"E:\\Sound Data\")\n",
    "\n",
    "wdir = r\"T:\\ResMgmt\\WAGS\\Sound\\Experiments & Data\\2021 GLBA Vessel Quotas and Operating Requirements plan\"\n",
    "\n",
    "# =========== plot ===================\n",
    "\n",
    "nfi_refs = [0.1, 0.2, 0.5, 1, 2, 5, 10, 20, 50, 100] # in hours\n",
    "\n",
    "fig, ax = plt.subplots(1, 1, figsize=(7, 3.5))\n",
    "\n",
    "for u, s, y, c in [(\"GLBA\", \"RENDU\", 2011, 'orange'),\n",
    "                   (\"GLBA\", \"RENDU\", 2020, 'green')]:\n",
    "    \n",
    "    # to visualize the annotations we: parse + filter + mine + represent...\n",
    "    base, cumu = VOQR_cumulative_histogram(ds, u, s, y)\n",
    "\n",
    "    # plot the results\n",
    "    ax.step(base[:-1], cumu, label=u+s+str(y), \n",
    "            lw=0.75, color=c)\n",
    "\n",
    "ax.set_xscale('log')\n",
    "ax.set_xlabel(\"Noise Free Interval length, hours \\n[logarithmic bins]\", \n",
    "              labelpad=25, fontsize=11)\n",
    "ax.set_xticks(ticks=nfi_refs)\n",
    "ax.set_xticklabels(labels=nfi_refs)\n",
    "ax.set_xlim([0.1, 100])\n",
    "\n",
    "# add visual cues for familiar lengths of time\n",
    "# (this helps interpret the logarithmic bins)\n",
    "for t in nfi_refs: \n",
    "    ax.axvline(t, lw=0.5, alpha=0.1, color=\"k\", zorder=-2)\n",
    "\n",
    "ax.set_ylabel(\"Percentile\", labelpad=25, fontsize=11)\n",
    "ax.set_ylim([0, 1.01])\n",
    "\n",
    "ax.axhline(1, lw=0.5, ls=\"dotted\", alpha=0.1, color=\"k\", zorder=-2)\n",
    "\n",
    "ax.axhline(0.8, lw=0.5, ls=\"dotted\", alpha=0.6, color=\"k\", zorder=-2)\n",
    "ax.axhline(0.7, lw=0.5, ls=\"dotted\", alpha=0.6, color=\"k\", zorder=-2)\n",
    "\n",
    "ax.spines['top'].set_visible(False)\n",
    "ax.spines['right'].set_visible(False)\n",
    "ax.spines['bottom'].set_visible(False)\n",
    "ax.spines['left'].set_visible(False)\n",
    "\n",
    "ax.legend(bbox_to_anchor=(1.1, 0.9818),\n",
    "          frameon=False)\n",
    "\n",
    "ax.set_title(\"Noise Free Interval Between Vessel Events\",\n",
    "             loc=\"center\", y=1.12, fontsize=13)\n",
    "\n",
    "plt.savefig(wdir+os.sep+\"GLBA_VOQR_VesselNFIs_RENDU_firstDraft.png\", dpi=200,\n",
    "            bbox_inches=\"tight\", facecolor=\"white\")\n",
    "plt.show()"
   ]
  }
 ],
 "metadata": {
  "kernelspec": {
   "display_name": "Python 3",
   "language": "python",
   "name": "python3"
  },
  "language_info": {
   "codemirror_mode": {
    "name": "ipython",
    "version": 3
   },
   "file_extension": ".py",
   "mimetype": "text/x-python",
   "name": "python",
   "nbconvert_exporter": "python",
   "pygments_lexer": "ipython3",
   "version": "3.8.8"
  }
 },
 "nbformat": 4,
 "nbformat_minor": 5
}
