{
 "cells": [
  {
   "cell_type": "markdown",
   "id": "af3f07dd",
   "metadata": {},
   "source": [
    "### NFI Cumulative Distribution Function plots and statistics for the Glacier Bay VQOR\n",
    "These for GLBARENDU2011, GLBAMCLEOD2011 (re-analyzed from original [Lynch E. 2012. *Glacier Bay National Park and Preserve: Acoustical Monitoring 2011*](https://irma.nps.gov/DataStore/Reference/Profile/2268564)), and subsequent monitoring GLBARENDU2021, GLBAMCLEOD2021. <br>"
   ]
  },
  {
   "cell_type": "code",
   "execution_count": 1,
   "id": "dc63c8b5",
   "metadata": {},
   "outputs": [],
   "source": [
    "import numpy as np\n",
    "import pandas as pd\n",
    "import matplotlib.pyplot as plt\n",
    "import geopandas as gpd\n",
    "import os\n",
    "\n",
    "# general NSNSD acoustical tools\n",
    "import sys\n",
    "sys.path.append(r\"C:\\Users\\DBetchkal\\PythonScripts\\3_GITHUB_REPOSITORIES\\iyore\")\n",
    "sys.path.append(r\"C:\\Users\\DBetchkal\\PythonScripts\\3_GITHUB_REPOSITORIES\\soundDB\")\n",
    "sys.path.append(r\"C:\\Users\\DBetchkal\\PythonScripts\\3_GITHUB_REPOSITORIES\\derivedDataFunctions\")\n",
    "sys.path.append(r\"C:\\Users\\DBetchkal\\PythonScripts\\3_GITHUB_REPOSITORIES\\GLBA-vesselAcoustics\")\n",
    "import iyore\n",
    "from soundDB import *\n",
    "from derivedDataFunctions import *\n",
    "from merge_SRCID import *\n",
    "from AIS_utilities import contiguous_regions\n",
    "\n",
    "\n",
    "def VOQR_cumulative_histogram_nfi(ds, unit, site, year):\n",
    "    \n",
    "    '''\n",
    "    Analyze spectrogram annotations for a site to make a CDF plot.\n",
    "    Work under conditions of the GLBA Vessel Operating and Quota Requirements plan.\n",
    "    '''\n",
    "\n",
    "    src = srcid(ds, unit=unit, site=site, year=year).combine()\n",
    "    src_m = merge_SRCID(src) # merging is important because vessels often span multiple hours\n",
    "    \n",
    "    n_days = number_of_days_splatted(src_m)\n",
    "\n",
    "    # extract only vessel events; a condition of the VQoR\n",
    "    # in this analysis: \n",
    "    #     AIS-derived vessels use a 4-character srcID mapped to MMSI (e.g., '0.702')\n",
    "    #     other vessels have the conventional srcID (i.e., '3.0')\n",
    "    vessel_events = src_m.loc[(src_m.srcID == 3)|(src_m.srcID.astype('str').str.len() == 5), :].copy()\n",
    "    \n",
    "    print(vessel_events)\n",
    "\n",
    "    # they must be sorted\n",
    "    vessel_events.sort_index(inplace=True)\n",
    "    \n",
    "    # this is by far more straightforward \n",
    "    NFIlst = vessel_events.index.to_series().diff()\n",
    "\n",
    "    # we only want non-negative intervals\n",
    "    out = pd.Series(np.array([m for m in NFIlst[NFIlst > \"00:00:00\"]]))\n",
    "\n",
    "    # compute noise-free intervals between all events\n",
    "    nfis = NFI_list(vessel_events, unit=\"hours\")\n",
    "\n",
    "    # for comparing sites a constant number of bins is required; let's use 100\n",
    "    val, base = np.histogram(nfis, bins=np.logspace(-2,2, 200))\n",
    "\n",
    "    #evaluate the cumulative\n",
    "    cumu = np.cumsum(val)/max(np.cumsum(val))\n",
    "    \n",
    "    # compute time audible as a percentage of the overall record\n",
    "    # note: this computation assumes partial days have been separated at the archive level\n",
    "    TA_p = 100*src_m.loc[:, \"len\"].sum().total_seconds()/(3600*len([e for e in ds.nvspl(unit=u, site=s, year=y)]))\n",
    "    \n",
    "    NFI_80thP = np.around(np.percentile(nfis, 80), decimals=1)\n",
    "    NFI_70thP = np.around(np.percentile(nfis, 70), decimals=1)\n",
    "    NFI_50thP = np.around(np.percentile(nfis, 50), decimals=1)\n",
    "    NFI_mean = np.around(np.mean(nfis), decimals=1)\n",
    "    print(\"80th = {0:.1f} hours\".format(NFI_80thP),\n",
    "          \"70th = {0:.1f} hours\".format(NFI_70thP),\n",
    "          \"mean = {0:.1f} hours\".format(NFI_mean),\n",
    "          \"50th = {0:.1f} hours\".format(NFI_50thP),\n",
    "          \"\\n\\n\")\n",
    "    \n",
    "    metrics = [n_days, NFI_50thP, NFI_mean, NFI_70thP, NFI_80thP]\n",
    "    \n",
    "    return base, cumu, TA_p, metrics\n",
    "\n",
    "def VOQR_cumulative_histogram_sel(ds, unit, site, year):\n",
    "    \n",
    "    '''\n",
    "    Analyze spectrogram annotations for a site to make a CDF plot.\n",
    "    Work under conditions of the GLBA Vessel Operating and Quota Requirements plan.\n",
    "    '''\n",
    "\n",
    "    src = srcid(ds, unit=unit, site=site, year=year).combine()\n",
    "    src = src[~src.index.duplicated(keep='first')]\n",
    "    src_m = merge_SRCID(src) # merging is important because vessels often span multiple hours\n",
    "\n",
    "    # extract only vessel events; a condition of the VQoR\n",
    "    # in this analysis: \n",
    "    #     AIS-derived vessels use a 4-character srcID mapped to MMSI (e.g., '0.702')\n",
    "    #     other vessels have the conventional srcID (i.e., '3.0')\n",
    "    vessel_events = src_m.loc[(src_m.srcID == 3)|(src_m.srcID.astype('str').str.len() == 5), :].copy()\n",
    "\n",
    "    # they must be sorted\n",
    "    vessel_events.sort_index(inplace=True)\n",
    "    \n",
    "    sels = [float(val) for val in vessel_events['SELt'].values]\n",
    "    \n",
    "    # for comparing sites a constant number of bins is required; let's use 100\n",
    "    val, base = np.histogram(sels, bins=np.linspace(20, 130, 200))\n",
    "\n",
    "    #evaluate the cumulative\n",
    "    cumu = np.cumsum(val)/max(np.cumsum(val))\n",
    "    \n",
    "    return base, cumu\n",
    "\n",
    "def html_table(list_of_lists):\n",
    "    print('<table>')\n",
    "    for sublist in list_of_lists:\n",
    "        print('  <tr><td>')\n",
    "        print('    </td><td>'.join(sublist))\n",
    "        print('  </td></tr>')\n",
    "    print('</table>')"
   ]
  },
  {
   "cell_type": "markdown",
   "id": "f2c70a0d",
   "metadata": {},
   "source": [
    "### Step One: plot overall vessel NFIs, SELs as Cumulative Distribution Functions\n",
    "we'll also produce a simple HMTL table summarizing the results"
   ]
  },
  {
   "cell_type": "code",
   "execution_count": 2,
   "id": "77ef6a77",
   "metadata": {
    "scrolled": false
   },
   "outputs": [
    {
     "name": "stdout",
     "output_type": "stream",
     "text": [
      "now processing GLBARENDU2011\n"
     ]
    },
    {
     "data": {
      "application/vnd.jupyter.widget-view+json": {
       "model_id": "5954e82bdb7c4203a5c301efa7f37b04",
       "version_major": 2,
       "version_minor": 0
      },
      "text/plain": [
       "  0%|          | 0/1 [00:00<?, ?entries/s]"
      ]
     },
     "metadata": {},
     "output_type": "display_data"
    },
    {
     "name": "stdout",
     "output_type": "stream",
     "text": [
      "                                len srcID  Hz_L   Hz_U MaxSPL   SEL MaxSPLt  \\\n",
      "2011-08-04 06:40:00 0 days 00:05:48   3.0  31.5  160.0   45.2  60.6    36.5   \n",
      "2011-08-04 07:00:06 0 days 01:10:17   3.0  25.0  100.0   55.2  75.6    53.1   \n",
      "2011-08-04 08:00:00 0 days 00:10:24   3.0  25.0  100.0   48.4  66.2    38.9   \n",
      "2011-08-04 08:14:03 0 days 00:02:28   3.0  50.0  125.0   42.2  60.0    38.4   \n",
      "2011-08-04 08:21:38 0 days 00:19:58   3.0  50.0   80.0   56.8  77.5    54.5   \n",
      "...                             ...   ...   ...    ...    ...   ...     ...   \n",
      "2011-08-25 15:00:00 0 days 00:08:47   3.0  25.0  500.0   47.4  61.5    40.8   \n",
      "2011-08-25 16:11:57 0 days 00:04:01   3.0  20.0  400.0   36.8  53.6    31.1   \n",
      "2011-08-25 16:22:46 0 days 00:06:02   3.0  25.0  500.0   44.3  60.7    38.4   \n",
      "2011-08-25 17:00:00 0 days 00:56:25   3.0  20.0  500.0   50.5  69.2    43.0   \n",
      "2011-08-25 17:57:37 0 days 00:02:22   3.0  25.0  400.0   31.6  51.1    27.6   \n",
      "\n",
      "                     SELt   userName             tagDate  \n",
      "2011-08-04 06:40:00  57.3     ELYNCH 2012-03-22 10:52:22  \n",
      "2011-08-04 07:00:06  70.1     ELYNCH 2012-03-22 10:53:10  \n",
      "2011-08-04 08:00:00  61.6     ELYNCH 2012-03-22 10:53:10  \n",
      "2011-08-04 08:14:03  55.3     ELYNCH 2012-03-22 10:53:15  \n",
      "2011-08-04 08:21:38  74.7     ELYNCH 2012-03-22 10:53:20  \n",
      "...                   ...        ...                 ...  \n",
      "2011-08-25 15:00:00  57.2  DBETCHKAL 2022-02-18 16:49:21  \n",
      "2011-08-25 16:11:57  48.3  DBETCHKAL 2022-02-18 16:49:29  \n",
      "2011-08-25 16:22:46  52.1  DBETCHKAL 2022-02-18 16:49:33  \n",
      "2011-08-25 17:00:00  65.3  DBETCHKAL 2022-02-18 16:49:48  \n",
      "2011-08-25 17:57:37  48.0  DBETCHKAL 2022-02-18 16:49:50  \n",
      "\n",
      "[317 rows x 10 columns]\n",
      "80th = 1.4 hours 70th = 1.1 hours mean = 1.6 hours 50th = 0.7 hours \n",
      "\n",
      "\n",
      "now processing GLBARENDU2021\n"
     ]
    },
    {
     "data": {
      "application/vnd.jupyter.widget-view+json": {
       "model_id": "d62e54bb32df456dbfc5e953008b14f0",
       "version_major": 2,
       "version_minor": 0
      },
      "text/plain": [
       "  0%|          | 0/1 [00:00<?, ?entries/s]"
      ]
     },
     "metadata": {},
     "output_type": "display_data"
    },
    {
     "name": "stdout",
     "output_type": "stream",
     "text": [
      "                                len  srcID  Hz_L  Hz_U MaxSPL   SEL MaxSPLt  \\\n",
      "2021-05-14 16:51:44 0 days 00:06:57    3.0  12.5  1250   42.4  63.0    41.0   \n",
      "2021-05-15 07:05:24 0 days 00:07:46    3.0  12.5   160   40.9  61.6    40.5   \n",
      "2021-05-15 15:03:11 0 days 00:31:30    3.0  12.5   400   46.8  66.7    46.2   \n",
      "2021-05-16 07:14:27 0 days 00:18:51  2.443  12.5   125   51.2  76.5    48.7   \n",
      "2021-05-16 11:25:36 0 days 00:23:53    3.0  12.5   200   66.0  79.7    65.4   \n",
      "...                             ...    ...   ...   ...    ...   ...     ...   \n",
      "2021-09-21 13:30:50 0 days 00:13:15    3.0  12.5   200   58.3  83.4    56.9   \n",
      "2021-09-23 09:09:09 0 days 00:13:03    3.0  12.5    63   58.0  78.7    54.8   \n",
      "2021-09-23 13:02:06 0 days 00:10:59  3.191  12.5    63   49.8  70.9    48.6   \n",
      "2021-09-25 14:25:52 0 days 00:13:34    3.0  12.5   200   46.1  63.9    45.6   \n",
      "2021-09-25 14:43:06 0 days 00:07:13    3.0  12.5   200   40.2  56.5    38.5   \n",
      "\n",
      "                     SELt userName             tagDate  \n",
      "2021-05-14 16:51:44  62.5     AHUG 2022-08-15 11:24:42  \n",
      "2021-05-15 07:05:24  60.2     AHUG 2022-08-15 11:26:30  \n",
      "2021-05-15 15:03:11  64.7     AHUG 2022-08-15 11:29:07  \n",
      "2021-05-16 07:14:27  74.3     AHUG 2022-08-15 11:29:53  \n",
      "2021-05-16 11:25:36  78.2     AHUG 2022-08-15 11:32:23  \n",
      "...                   ...      ...                 ...  \n",
      "2021-09-21 13:30:50  82.2     AHUG 2022-08-19 18:39:44  \n",
      "2021-09-23 09:09:09  75.0     AHUG 2022-08-19 18:42:05  \n",
      "2021-09-23 13:02:06  68.2     AHUG 2022-08-19 18:42:55  \n",
      "2021-09-25 14:25:52  60.5     AHUG 2022-08-19 18:45:11  \n",
      "2021-09-25 14:43:06  54.0     AHUG 2022-08-19 18:45:19  \n",
      "\n",
      "[1340 rows x 10 columns]\n",
      "80th = 1.9 hours 70th = 1.1 hours mean = 2.4 hours 50th = 0.5 hours \n",
      "\n",
      "\n",
      "now processing GLBAMCLEOD2011\n"
     ]
    },
    {
     "data": {
      "application/vnd.jupyter.widget-view+json": {
       "model_id": "da61d6db12414434ba8185a01a3e1ee4",
       "version_major": 2,
       "version_minor": 0
      },
      "text/plain": [
       "  0%|          | 0/1 [00:00<?, ?entries/s]"
      ]
     },
     "metadata": {},
     "output_type": "display_data"
    },
    {
     "name": "stdout",
     "output_type": "stream",
     "text": [
      "                                len srcID  Hz_L  Hz_U MaxSPL   SEL MaxSPLt  \\\n",
      "2011-08-20 10:41:14 0 days 00:09:52   3.0  20.0  2000   69.0  70.9    68.1   \n",
      "2011-08-20 11:35:18 0 days 00:12:34   3.0  25.0  2500   57.0  67.1    55.3   \n",
      "2011-08-20 14:01:52 0 days 00:05:07   3.0  25.0   500   46.8  57.5    34.3   \n",
      "2011-08-20 14:13:37 0 days 00:16:10   3.0  20.0  2500   51.5  65.6    40.8   \n",
      "2011-08-20 14:44:44 0 days 00:07:14   3.0  20.0  8000   50.3  66.4    49.3   \n",
      "...                             ...   ...   ...   ...    ...   ...     ...   \n",
      "2011-09-10 16:04:32 0 days 00:05:52   3.0  12.5  1600   34.1  54.0    33.5   \n",
      "2011-09-10 17:01:33 0 days 00:07:25   3.0  12.5  1000   35.5  54.0    35.2   \n",
      "2011-09-10 17:31:23 0 days 00:05:07   3.0  12.5  1000   33.1  52.8    32.5   \n",
      "2011-09-10 17:44:13 0 days 00:07:05   3.0  12.5  1000   34.7  52.8    33.3   \n",
      "2011-09-10 18:01:01 0 days 00:20:14   3.0  12.5   315   47.3  58.9    46.9   \n",
      "\n",
      "                     SELt   userName             tagDate  \n",
      "2011-08-20 10:41:14  69.1  DBETCHKAL 2022-02-23 10:01:45  \n",
      "2011-08-20 11:35:18  65.7  DBETCHKAL 2022-02-23 10:01:54  \n",
      "2011-08-20 14:01:52  52.4  DBETCHKAL 2022-02-23 10:04:41  \n",
      "2011-08-20 14:13:37  62.0  DBETCHKAL 2022-02-23 10:04:47  \n",
      "2011-08-20 14:44:44  65.7  DBETCHKAL 2022-02-23 10:04:52  \n",
      "...                   ...        ...                 ...  \n",
      "2011-09-10 16:04:32  51.6  DBETCHKAL 2022-02-23 17:59:17  \n",
      "2011-09-10 17:01:33  50.8  DBETCHKAL 2022-02-23 18:06:38  \n",
      "2011-09-10 17:31:23  50.0  DBETCHKAL 2022-02-23 18:06:44  \n",
      "2011-09-10 17:44:13  48.3  DBETCHKAL 2022-02-23 18:06:42  \n",
      "2011-09-10 18:01:01  55.0  DBETCHKAL 2022-02-23 18:07:02  \n",
      "\n",
      "[155 rows x 10 columns]\n",
      "80th = 3.1 hours 70th = 1.6 hours mean = 3.3 hours 50th = 0.7 hours \n",
      "\n",
      "\n",
      "now processing GLBAMCLEOD2021\n"
     ]
    },
    {
     "data": {
      "application/vnd.jupyter.widget-view+json": {
       "model_id": "4129c32fc9d44bf6b13422e752007971",
       "version_major": 2,
       "version_minor": 0
      },
      "text/plain": [
       "  0%|          | 0/1 [00:00<?, ?entries/s]"
      ]
     },
     "metadata": {},
     "output_type": "display_data"
    },
    {
     "name": "stdout",
     "output_type": "stream",
     "text": [
      "                                len  srcID  Hz_L   Hz_U MaxSPL   SEL MaxSPLt  \\\n",
      "2021-05-11 11:55:47 0 days 00:04:13  1.011  12.5   2000    0.0   0.0     0.0   \n",
      "2021-05-11 18:02:35 0 days 00:57:25  2.367  12.5   2000    0.0   0.0     0.0   \n",
      "2021-05-13 11:37:43 0 days 00:02:16    3.0  12.5    630   57.8  70.7    57.0   \n",
      "2021-05-13 11:44:35 0 days 00:01:03    3.0  12.5   1000   56.7  66.0    49.8   \n",
      "2021-05-13 11:47:24 0 days 00:09:04    3.0  12.5  12500   57.8  74.1    55.4   \n",
      "...                             ...    ...   ...    ...    ...   ...     ...   \n",
      "2021-09-28 13:31:02 0 days 00:19:47    3.0  12.5   5000   53.3  72.0    53.3   \n",
      "2021-10-04 16:18:02 0 days 00:20:38  1.011  12.5  10000   59.3  65.9    44.0   \n",
      "2021-10-04 17:53:07 0 days 00:27:37  1.011  12.5  12500   53.8  67.6    52.0   \n",
      "2021-10-04 18:00:00 0 days 00:20:45  1.011  12.5  12500   53.8  67.5    52.0   \n",
      "2021-10-05 17:19:55 0 days 00:07:51    3.0  12.5   1000   45.1  60.6    43.2   \n",
      "\n",
      "                     SELt     userName             tagDate  \n",
      "2021-05-11 11:55:47   0.0  AIS_derived 2022-02-19 10:58:13  \n",
      "2021-05-11 18:02:35   0.0  AIS_derived 2022-02-19 10:58:12  \n",
      "2021-05-13 11:37:43  64.3         AHUG 2022-03-25 14:56:22  \n",
      "2021-05-13 11:44:35  62.0         AHUG 2022-03-25 14:46:24  \n",
      "2021-05-13 11:47:24  72.3         AHUG 2022-03-25 14:53:04  \n",
      "...                   ...          ...                 ...  \n",
      "2021-09-28 13:31:02  70.7         AHUG 2022-05-25 16:51:13  \n",
      "2021-10-04 16:18:02  63.7         AHUG 2022-05-26 09:42:35  \n",
      "2021-10-04 17:53:07  66.1         AHUG 2022-06-05 22:58:44  \n",
      "2021-10-04 18:00:00  66.0         AHUG 2022-06-05 22:58:44  \n",
      "2021-10-05 17:19:55  59.8         AHUG 2022-05-26 10:18:12  \n",
      "\n",
      "[500 rows x 10 columns]\n",
      "80th = 4.9 hours 70th = 2.5 hours mean = 7.1 hours 50th = 0.8 hours \n",
      "\n",
      "\n"
     ]
    },
    {
     "data": {
      "image/png": "[encoded data removed]",
      "text/plain": [
       "<Figure size 504x252 with 1 Axes>"
      ]
     },
     "metadata": {
      "needs_background": "light"
     },
     "output_type": "display_data"
    },
    {
     "name": "stdout",
     "output_type": "stream",
     "text": [
      "<table>\n",
      "  <tr><td>\n",
      "Site location    </td><td>days measured    </td><td>median (hrs)    </td><td>mean (hrs)    </td><td>70th percentile (hrs)    </td><td>80th percentile (hrs)\n",
      "  </td></tr>\n",
      "  <tr><td>\n",
      "GLBARENDU2011    </td><td>22    </td><td>0.7    </td><td>1.6    </td><td>1.1    </td><td>1.4\n",
      "  </td></tr>\n",
      "  <tr><td>\n",
      "GLBARENDU2021    </td><td>114    </td><td>0.5    </td><td>2.4    </td><td>1.1    </td><td>1.9\n",
      "  </td></tr>\n",
      "  <tr><td>\n",
      "GLBAMCLEOD2011    </td><td>22    </td><td>0.7    </td><td>3.3    </td><td>1.6    </td><td>3.1\n",
      "  </td></tr>\n",
      "  <tr><td>\n",
      "GLBAMCLEOD2021    </td><td>137    </td><td>0.8    </td><td>7.1    </td><td>2.5    </td><td>4.9\n",
      "  </td></tr>\n",
      "</table>\n"
     ]
    }
   ],
   "source": [
    "ds = iyore.Dataset(r\"E:\")\n",
    "\n",
    "wdir = r\"T:\\ResMgmt\\WAGS\\Sound\\Experiments & Data\\2022 - 2021 GLBA VQOR Vessel Quotas and Operating Requirements plan\"\n",
    "\n",
    "# =========== plot ===================\n",
    "\n",
    "nfi_refs = [0.1, 0.2, 0.5, 1, 2, 5, 10, 20, 50, 100] # in hours\n",
    "\n",
    "fig, ax = plt.subplots(1, 1, figsize=(7, 3.5))\n",
    "\n",
    "#                   ('GLBA', 'BARTC', 2020, 'mediumblue'), # where are these?\n",
    "#                   ('GLBA', 'HUTCH', 2020, 'pink'),\n",
    "# for u, s, y, c in [('GLBA', 'BARTC', 2021, 'blue'),\n",
    "#                    ('GLBA', 'MCLEOD', 2011, 'mediumvioletred'),\n",
    "#                    ('GLBA', 'MCLEOD', 2021, 'violet'),\n",
    "#                    ('GLBA', 'RENDU', 2011, 'mediumspringgreen'),\n",
    "#                    ('GLBA', 'RENDU', 2020, 'orange'),\n",
    "#                    ('GLBA', 'RENDU', 2021, 'green'),\n",
    "#                    ('GLBA', 'REID', 2020, 'indigo'),\n",
    "#                    ('GLBA', 'BEARD', 2021, 'saddlebrown'),\n",
    "#                    ('GLBA', 'HUTCH', 2011, 'orangered'),\n",
    "#                    ('GLBA', 'MOUSE', 2011, 'dodgerblue')]:\n",
    "\n",
    "# we start with a header\n",
    "table_data = [['Site location', 'days measured', 'median (hrs)', 'mean (hrs)',\n",
    "                '70th percentile (hrs)', '80th percentile (hrs)']]\n",
    "\n",
    "for u, s, y, c in [('GLBA', 'RENDU', 2011, 'mediumspringgreen'),\n",
    "                   ('GLBA', 'RENDU', 2021, 'green'),\n",
    "                   ('GLBA', 'MCLEOD', 2011, 'mediumvioletred'),\n",
    "                   ('GLBA', 'MCLEOD', 2021, 'violet')]:\n",
    "    \n",
    "    print(\"now processing\", u+s+str(y))\n",
    "    \n",
    "    # to visualize the annotations we: parse + filter + mine + represent...\n",
    "    base, cumu, TA_p, metrics = VOQR_cumulative_histogram_nfi(ds, u, s, y)\n",
    "    \n",
    "    # process acoustic metrics for inclusion in an HTML table\n",
    "    row = [u+s+str(y)] + [str(item) for item in metrics] \n",
    "    table_data.append(row)\n",
    "    \n",
    "    # plot the results\n",
    "    ax.step(base[:-1], cumu, label=u+s+str(y), \n",
    "            lw=0.75, color=c)\n",
    "    \n",
    "    \n",
    "\n",
    "\n",
    "ax.set_xscale('log')\n",
    "ax.set_xlabel(\"Noise Free Interval length, hours \\n[logarithmic bins]\", \n",
    "              labelpad=25, fontsize=11)\n",
    "ax.set_xticks(ticks=nfi_refs)\n",
    "ax.set_xticklabels(labels=nfi_refs)\n",
    "ax.set_xlim([0.1, 100])\n",
    "\n",
    "# add visual cues for familiar lengths of time\n",
    "# (this helps interpret the logarithmic bins)\n",
    "for t in nfi_refs: \n",
    "    ax.axvline(t, lw=0.5, alpha=0.1, color=\"k\", zorder=-2)\n",
    "\n",
    "ax.set_ylabel(\"Percentile\", labelpad=25, fontsize=11)\n",
    "ax.set_ylim([0, 1.01])\n",
    "\n",
    "ax.axhline(1, lw=0.5, ls=\"dotted\", alpha=0.1, color=\"k\", zorder=-2)\n",
    "\n",
    "ax.axhline(0.8, lw=0.5, ls=\"dotted\", alpha=0.6, color=\"k\", zorder=-2)\n",
    "ax.axhline(0.7, lw=0.5, ls=\"dotted\", alpha=0.6, color=\"k\", zorder=-2)\n",
    "\n",
    "ax.spines['top'].set_visible(False)\n",
    "ax.spines['right'].set_visible(False)\n",
    "ax.spines['bottom'].set_visible(False)\n",
    "ax.spines['left'].set_visible(False)\n",
    "\n",
    "ax.legend(bbox_to_anchor=(1.1, 0.9818),\n",
    "          frameon=False)\n",
    "\n",
    "ax.set_title(\"Noise Free Interval Between Vessel Events\",\n",
    "             loc=\"center\", y=1.12, fontsize=13)\n",
    "\n",
    "plt.savefig(wdir+os.sep+\"GLBA_VOQR_VesselNFIs_MCLEOD_20221104.png\", dpi=200,\n",
    "            bbox_inches=\"tight\", facecolor=\"white\")\n",
    "plt.show()\n",
    "\n",
    "\n",
    "# generate an HTML table for a tidy site-by-site summary\n",
    "html_table(table_data)"
   ]
  },
  {
   "cell_type": "markdown",
   "id": "7ddf2ed9",
   "metadata": {},
   "source": [
    "<table>\n",
    "  <tr><td>\n",
    "Site location    </td><td>days measured    </td><td>median (hrs)    </td><td>mean (hrs)    </td><td>70th percentile (hrs)    </td><td>80th percentile (hrs)\n",
    "  </td></tr>\n",
    "  <tr><td>\n",
    "GLBARENDU2011    </td><td>22    </td><td>0.7    </td><td>1.6    </td><td>1.1    </td><td>1.4\n",
    "  </td></tr>\n",
    "  <tr><td>\n",
    "GLBARENDU2021    </td><td>114    </td><td>0.5    </td><td>2.4    </td><td>1.1    </td><td>1.9\n",
    "  </td></tr>\n",
    "  <tr><td>\n",
    "GLBAMCLEOD2011    </td><td>22    </td><td>0.7    </td><td>3.3    </td><td>1.6    </td><td>3.1\n",
    "  </td></tr>\n",
    "  <tr><td>\n",
    "GLBAMCLEOD2021    </td><td>137    </td><td>0.8    </td><td>7.1    </td><td>2.5    </td><td>4.9\n",
    "  </td></tr>\n",
    "</table>"
   ]
  },
  {
   "cell_type": "markdown",
   "id": "ff799902",
   "metadata": {},
   "source": [
    "#### Same graphic as above, but for Sound Exposure Level (SEL)\n",
    "The analysis is identical, but visualizing the results requires different contextualization"
   ]
  },
  {
   "cell_type": "code",
   "execution_count": null,
   "id": "2d6a01cb",
   "metadata": {},
   "outputs": [],
   "source": [
    "ds = iyore.Dataset(r\"E:\")\n",
    "\n",
    "wdir = r\"T:\\ResMgmt\\WAGS\\Sound\\Experiments & Data\\2022 - 2021 GLBA VQOR Vessel Quotas and Operating Requirements plan\"\n",
    "\n",
    "# =========== plot ===================\n",
    "\n",
    "nfi_refs = [0.1, 0.2, 0.5, 1, 2, 5, 10, 20, 50, 100] # in hours\n",
    "\n",
    "fig, ax = plt.subplots(1, 1, figsize=(7, 3.5))\n",
    "\n",
    "for u, s, y, c in [(\"GLBA\", \"RENDU\", 2011, 'mediumspringgreen'),\n",
    "                   (\"GLBA\", \"RENDU\", 2021, 'green'),\n",
    "                   (\"GLBA\", \"MCLEOD\", 2011, 'mediumvioletred'),\n",
    "                   (\"GLBA\", \"MCLEOD\", 2021, 'violet'),\n",
    "                   (\"GLBA\", \"BARTC\", 2021, 'dodgerblue'),\n",
    "                   (\"GLBA\", \"BEARD\", 2021, 'chocolate')]:\n",
    "    \n",
    "    print(\"now processing\", u+s+str(y))\n",
    "    \n",
    "    # to visualize the annotations we: parse + filter + mine + represent...\n",
    "    base, cumu,  = VOQR_cumulative_histogram_sel(ds, u, s, y)\n",
    "    \n",
    "    # plot the results\n",
    "    ax.step(base[:-1], cumu, label=u+s+str(y), \n",
    "            lw=0.75, color=c)\n",
    "\n",
    "# ax.set_xscale('log')\n",
    "ax.set_xlabel(\"Sound Exposure Level [12.5 - 1250 Hz] (dB)\", \n",
    "              labelpad=25, fontsize=11)\n",
    "# ax.set_xticks(ticks=nfi_refs)\n",
    "# ax.set_xticklabels(labels=nfi_refs)\n",
    "ax.set_xlim([30, 100])\n",
    "\n",
    "# # add visual cues for familiar lengths of time\n",
    "# # (this helps interpret the logarithmic bins)\n",
    "# for t in nfi_refs: \n",
    "#     ax.axvline(t, lw=0.5, alpha=0.1, color=\"k\", zorder=-2)\n",
    "\n",
    "ax.set_ylabel(\"Percentile\", labelpad=25, fontsize=11)\n",
    "ax.set_ylim([0, 1.01])\n",
    "\n",
    "# ax.axhline(1, lw=0.5, ls=\"dotted\", alpha=0.1, color=\"k\", zorder=-2)\n",
    "# ax.axhline(0.8, lw=0.5, ls=\"dotted\", alpha=0.6, color=\"k\", zorder=-2)\n",
    "# ax.axhline(0.7, lw=0.5, ls=\"dotted\", alpha=0.6, color=\"k\", zorder=-2)\n",
    "\n",
    "ax.spines['top'].set_visible(False)\n",
    "ax.spines['right'].set_visible(False)\n",
    "ax.spines['bottom'].set_visible(False)\n",
    "ax.spines['left'].set_visible(False)\n",
    "\n",
    "ax.legend(bbox_to_anchor=(1.1, 0.9818),\n",
    "          frameon=False)\n",
    "\n",
    "ax.set_title(\"Sound Exposure Level (=Noise Dose) of Vessel Events\",\n",
    "             loc=\"center\", y=1.12, fontsize=13)\n",
    "\n",
    "plt.savefig(wdir+os.sep+\"GLBA_VOQR_VesselSELsfirstDraft.png\", dpi=200,\n",
    "            bbox_inches=\"tight\", facecolor=\"white\")\n",
    "plt.show()"
   ]
  },
  {
   "cell_type": "markdown",
   "id": "0a800584",
   "metadata": {},
   "source": [
    "### Step Two: Load and filter the annotation record"
   ]
  },
  {
   "cell_type": "code",
   "execution_count": 3,
   "id": "2d50ddf5",
   "metadata": {},
   "outputs": [
    {
     "data": {
      "application/vnd.jupyter.widget-view+json": {
       "model_id": "37ec686f70b148118fd222bf378a7516",
       "version_major": 2,
       "version_minor": 0
      },
      "text/plain": [
       "  0%|          | 0/1 [00:00<?, ?entries/s]"
      ]
     },
     "metadata": {},
     "output_type": "display_data"
    }
   ],
   "source": [
    "ds = iyore.Dataset(r\"E:\")\n",
    "u, s, y = \"GLBA\", \"RENDU\", 2021\n",
    "\n",
    "src = srcid(ds, unit=u, site=s, year=y).combine()\n",
    "src_m = merge_SRCID(src) # merging is important because vessels often span multiple hours\n",
    "\n",
    "# extract only vessel events; a condition of the VQoR\n",
    "# in this analysis: \n",
    "#     AIS-derived vessels use a 4-character srcID mapped to MMSI (e.g., '0.702')\n",
    "#     other vessels have the conventional srcID (i.e., '3.0')\n",
    "vessel_events = src_m.loc[(src_m.srcID == 3)|(src_m.srcID.astype('str').str.len() == 5), :].copy()\n",
    "\n",
    "# they must be sorted\n",
    "vessel_events.sort_index(inplace=True)"
   ]
  },
  {
   "cell_type": "markdown",
   "id": "b7e38cc0",
   "metadata": {},
   "source": [
    "### Step Three: Load NVSPL record, add a binary series for vessel noise presence"
   ]
  },
  {
   "cell_type": "code",
   "execution_count": 4,
   "id": "b7b9d6aa",
   "metadata": {},
   "outputs": [
    {
     "data": {
      "application/vnd.jupyter.widget-view+json": {
       "model_id": "5967115dbd474aa1951ffe500ac91679",
       "version_major": 2,
       "version_minor": 0
      },
      "text/plain": [
       "  0%|          | 0/2760 [00:00<?, ?entries/s]"
      ]
     },
     "metadata": {},
     "output_type": "display_data"
    },
    {
     "name": "stdout",
     "output_type": "stream",
     "text": [
      "Interrupted while parsing \"E:2021 GLBARENDU Rendu Inlet\\01 DATA\\NVSPL\\NVSPL_GLBARENDU_2021_05_12_07.txt\"\n"
     ]
    },
    {
     "ename": "KeyboardInterrupt",
     "evalue": "",
     "output_type": "error",
     "traceback": [
      "\u001b[1;31m-------------------------------------------------------\u001b[0m",
      "\u001b[1;31mKeyboardInterrupt\u001b[0m     Traceback (most recent call last)",
      "\u001b[1;32m<ipython-input-4-f48d9b726658>\u001b[0m in \u001b[0;36m<module>\u001b[1;34m\u001b[0m\n\u001b[0;32m     11\u001b[0m \u001b[1;33m\u001b[0m\u001b[0m\n\u001b[0;32m     12\u001b[0m     \u001b[0mevent_times\u001b[0m \u001b[1;33m=\u001b[0m \u001b[1;33m[\u001b[0m\u001b[0mstart\u001b[0m \u001b[1;33m+\u001b[0m \u001b[0mdt\u001b[0m\u001b[1;33m.\u001b[0m\u001b[0mtimedelta\u001b[0m\u001b[1;33m(\u001b[0m\u001b[0mseconds\u001b[0m\u001b[1;33m=\u001b[0m\u001b[0mi\u001b[0m\u001b[1;33m)\u001b[0m \u001b[1;32mfor\u001b[0m \u001b[0mi\u001b[0m \u001b[1;32min\u001b[0m \u001b[0mnp\u001b[0m\u001b[1;33m.\u001b[0m\u001b[0marange\u001b[0m\u001b[1;33m(\u001b[0m\u001b[1;36m0\u001b[0m\u001b[1;33m,\u001b[0m \u001b[0mrow\u001b[0m\u001b[1;33m[\u001b[0m\u001b[1;34m\"len\"\u001b[0m\u001b[1;33m]\u001b[0m\u001b[1;33m.\u001b[0m\u001b[0mtotal_seconds\u001b[0m\u001b[1;33m(\u001b[0m\u001b[1;33m)\u001b[0m\u001b[1;33m)\u001b[0m\u001b[1;33m]\u001b[0m\u001b[1;33m\u001b[0m\u001b[1;33m\u001b[0m\u001b[0m\n\u001b[1;32m---> 13\u001b[1;33m     \u001b[0mnoisy_times\u001b[0m \u001b[1;33m=\u001b[0m \u001b[0mnp\u001b[0m\u001b[1;33m.\u001b[0m\u001b[0mappend\u001b[0m\u001b[1;33m(\u001b[0m\u001b[0mnoisy_times\u001b[0m\u001b[1;33m,\u001b[0m \u001b[0mevent_times\u001b[0m\u001b[1;33m)\u001b[0m\u001b[1;33m\u001b[0m\u001b[1;33m\u001b[0m\u001b[0m\n\u001b[0m\u001b[0;32m     14\u001b[0m \u001b[1;33m\u001b[0m\u001b[0m\n\u001b[0;32m     15\u001b[0m \u001b[1;33m\u001b[0m\u001b[0m\n",
      "\u001b[1;32m<__array_function__ internals>\u001b[0m in \u001b[0;36mappend\u001b[1;34m(*args, **kwargs)\u001b[0m\n",
      "\u001b[1;32m~\\Anaconda3\\envs\\flight-sound\\lib\\site-packages\\numpy\\lib\\function_base.py\u001b[0m in \u001b[0;36mappend\u001b[1;34m(arr, values, axis)\u001b[0m\n\u001b[0;32m   4741\u001b[0m         \u001b[1;32mif\u001b[0m \u001b[0marr\u001b[0m\u001b[1;33m.\u001b[0m\u001b[0mndim\u001b[0m \u001b[1;33m!=\u001b[0m \u001b[1;36m1\u001b[0m\u001b[1;33m:\u001b[0m\u001b[1;33m\u001b[0m\u001b[1;33m\u001b[0m\u001b[0m\n\u001b[0;32m   4742\u001b[0m             \u001b[0marr\u001b[0m \u001b[1;33m=\u001b[0m \u001b[0marr\u001b[0m\u001b[1;33m.\u001b[0m\u001b[0mravel\u001b[0m\u001b[1;33m(\u001b[0m\u001b[1;33m)\u001b[0m\u001b[1;33m\u001b[0m\u001b[1;33m\u001b[0m\u001b[0m\n\u001b[1;32m-> 4743\u001b[1;33m         \u001b[0mvalues\u001b[0m \u001b[1;33m=\u001b[0m \u001b[0mravel\u001b[0m\u001b[1;33m(\u001b[0m\u001b[0mvalues\u001b[0m\u001b[1;33m)\u001b[0m\u001b[1;33m\u001b[0m\u001b[1;33m\u001b[0m\u001b[0m\n\u001b[0m\u001b[0;32m   4744\u001b[0m         \u001b[0maxis\u001b[0m \u001b[1;33m=\u001b[0m \u001b[0marr\u001b[0m\u001b[1;33m.\u001b[0m\u001b[0mndim\u001b[0m\u001b[1;33m-\u001b[0m\u001b[1;36m1\u001b[0m\u001b[1;33m\u001b[0m\u001b[1;33m\u001b[0m\u001b[0m\n\u001b[0;32m   4745\u001b[0m     \u001b[1;32mreturn\u001b[0m \u001b[0mconcatenate\u001b[0m\u001b[1;33m(\u001b[0m\u001b[1;33m(\u001b[0m\u001b[0marr\u001b[0m\u001b[1;33m,\u001b[0m \u001b[0mvalues\u001b[0m\u001b[1;33m)\u001b[0m\u001b[1;33m,\u001b[0m \u001b[0maxis\u001b[0m\u001b[1;33m=\u001b[0m\u001b[0maxis\u001b[0m\u001b[1;33m)\u001b[0m\u001b[1;33m\u001b[0m\u001b[1;33m\u001b[0m\u001b[0m\n",
      "\u001b[1;32m<__array_function__ internals>\u001b[0m in \u001b[0;36mravel\u001b[1;34m(*args, **kwargs)\u001b[0m\n",
      "\u001b[1;32m~\\Anaconda3\\envs\\flight-sound\\lib\\site-packages\\numpy\\core\\fromnumeric.py\u001b[0m in \u001b[0;36mravel\u001b[1;34m(a, order)\u001b[0m\n\u001b[0;32m   1818\u001b[0m         \u001b[1;32mreturn\u001b[0m \u001b[0masarray\u001b[0m\u001b[1;33m(\u001b[0m\u001b[0ma\u001b[0m\u001b[1;33m)\u001b[0m\u001b[1;33m.\u001b[0m\u001b[0mravel\u001b[0m\u001b[1;33m(\u001b[0m\u001b[0morder\u001b[0m\u001b[1;33m=\u001b[0m\u001b[0morder\u001b[0m\u001b[1;33m)\u001b[0m\u001b[1;33m\u001b[0m\u001b[1;33m\u001b[0m\u001b[0m\n\u001b[0;32m   1819\u001b[0m     \u001b[1;32melse\u001b[0m\u001b[1;33m:\u001b[0m\u001b[1;33m\u001b[0m\u001b[1;33m\u001b[0m\u001b[0m\n\u001b[1;32m-> 1820\u001b[1;33m         \u001b[1;32mreturn\u001b[0m \u001b[0masanyarray\u001b[0m\u001b[1;33m(\u001b[0m\u001b[0ma\u001b[0m\u001b[1;33m)\u001b[0m\u001b[1;33m.\u001b[0m\u001b[0mravel\u001b[0m\u001b[1;33m(\u001b[0m\u001b[0morder\u001b[0m\u001b[1;33m=\u001b[0m\u001b[0morder\u001b[0m\u001b[1;33m)\u001b[0m\u001b[1;33m\u001b[0m\u001b[1;33m\u001b[0m\u001b[0m\n\u001b[0m\u001b[0;32m   1821\u001b[0m \u001b[1;33m\u001b[0m\u001b[0m\n\u001b[0;32m   1822\u001b[0m \u001b[1;33m\u001b[0m\u001b[0m\n",
      "\u001b[1;32m~\\Anaconda3\\envs\\flight-sound\\lib\\site-packages\\numpy\\core\\_asarray.py\u001b[0m in \u001b[0;36masanyarray\u001b[1;34m(a, dtype, order, like)\u001b[0m\n\u001b[0;32m    169\u001b[0m         \u001b[1;32mreturn\u001b[0m \u001b[0m_asanyarray_with_like\u001b[0m\u001b[1;33m(\u001b[0m\u001b[0ma\u001b[0m\u001b[1;33m,\u001b[0m \u001b[0mdtype\u001b[0m\u001b[1;33m=\u001b[0m\u001b[0mdtype\u001b[0m\u001b[1;33m,\u001b[0m \u001b[0morder\u001b[0m\u001b[1;33m=\u001b[0m\u001b[0morder\u001b[0m\u001b[1;33m,\u001b[0m \u001b[0mlike\u001b[0m\u001b[1;33m=\u001b[0m\u001b[0mlike\u001b[0m\u001b[1;33m)\u001b[0m\u001b[1;33m\u001b[0m\u001b[1;33m\u001b[0m\u001b[0m\n\u001b[0;32m    170\u001b[0m \u001b[1;33m\u001b[0m\u001b[0m\n\u001b[1;32m--> 171\u001b[1;33m     \u001b[1;32mreturn\u001b[0m \u001b[0marray\u001b[0m\u001b[1;33m(\u001b[0m\u001b[0ma\u001b[0m\u001b[1;33m,\u001b[0m \u001b[0mdtype\u001b[0m\u001b[1;33m,\u001b[0m \u001b[0mcopy\u001b[0m\u001b[1;33m=\u001b[0m\u001b[1;32mFalse\u001b[0m\u001b[1;33m,\u001b[0m \u001b[0morder\u001b[0m\u001b[1;33m=\u001b[0m\u001b[0morder\u001b[0m\u001b[1;33m,\u001b[0m \u001b[0msubok\u001b[0m\u001b[1;33m=\u001b[0m\u001b[1;32mTrue\u001b[0m\u001b[1;33m)\u001b[0m\u001b[1;33m\u001b[0m\u001b[1;33m\u001b[0m\u001b[0m\n\u001b[0m\u001b[0;32m    172\u001b[0m \u001b[1;33m\u001b[0m\u001b[0m\n\u001b[0;32m    173\u001b[0m \u001b[1;33m\u001b[0m\u001b[0m\n",
      "\u001b[1;31mKeyboardInterrupt\u001b[0m: "
     ]
    }
   ],
   "source": [
    "# load (part of) the acoustic record using `soundDB`\n",
    "nv = nvspl(ds, unit=u, site=s, year=y).combine()\n",
    "nv.index = nv.index.droplevel()\n",
    "\n",
    "# select only the salient data we'll be working with\n",
    "nv_select = nv.loc[:, \"12.5\":\"dbA\"].merge(nv[\"WindSpeed\"], how=\"left\", left_index=True, right_index=True)\n",
    "\n",
    "# we want to expand all the events into a complete list of their inclusive datetimes\n",
    "noisy_times = np.array([])\n",
    "for start, row in vessel_events.iterrows():\n",
    "    \n",
    "    event_times = [start + dt.timedelta(seconds=i) for i in np.arange(0, row[\"len\"].total_seconds())]\n",
    "    noisy_times = np.append(noisy_times, event_times)\n",
    "\n",
    "\n",
    "# flatten and take only the unique values, as this is a composite effort\n",
    "noise_series_raw = noisy_times.flatten()\n",
    "noise_series = np.unique(noise_series_raw)\n",
    "\n",
    "# compile into a `pandas.Series` object for merging with NVSPL\n",
    "noise_presence = pd.Series(np.ones(noise_series.shape), index=noise_series, name=\"presence\")\n",
    "\n",
    "# merge the indicator series with the acoustic data, \n",
    "# keeping all rows from the latter and assigning np.nan for all times without noise\n",
    "indicator_nv = nv_select.merge(noise_presence, how=\"left\", left_index=True, right_index=True)\n",
    "indicator_nv = indicator_nv.fillna(0) # then convert np.nan -> 0\n",
    "\n",
    "indicator_nv"
   ]
  },
  {
   "cell_type": "code",
   "execution_count": null,
   "id": "c9f8ce96",
   "metadata": {},
   "outputs": [],
   "source": [
    "nfis_select=contiguous_regions(indicator_nv['presence'] == 0)\n",
    "I_max = (nfis_select.T[1] - nfis_select.T[0]).max()/3600"
   ]
  },
  {
   "cell_type": "markdown",
   "id": "6f43931f",
   "metadata": {},
   "source": [
    "### Step Four: Compute longest diurnal NFI\n",
    "- group NVSPL record by date, then <br>\n",
    "- subselect by desired diural period, then <br>\n",
    "- group `indicator_nv['presence']` by contiguous regions with value `== 0`, that is, *noise-free seconds*\n",
    "- thus: *length of group* $\\equiv$ *length of noise-free interval*\n",
    "- glean `max(len(group))`"
   ]
  },
  {
   "cell_type": "code",
   "execution_count": null,
   "id": "4f7b26b9",
   "metadata": {},
   "outputs": [],
   "source": [
    "start_bound = 5 # \"05:00\"\n",
    "end_bound = 21 # \"21:00\" # must be in the same day!\n",
    "\n",
    "I_maxs = []\n",
    "nvspl_dates = np.unique(indicator_nv.index.date)\n",
    "for date in nvspl_dates:\n",
    "    \n",
    "    s_time = dt.time(hour=start_bound)\n",
    "    s_bound = dt.datetime.combine(date, s_time)\n",
    "    e_time = dt.time(hour=end_bound)\n",
    "    e_bound = dt.datetime.combine(date, e_time)\n",
    "    \n",
    "    print(\"on\", date, \"between\", s_time, \"and\", e_time, \":\\n\")\n",
    "    print(\"\\tthe longest noise-free interval\")\n",
    "    \n",
    "    nv_select = indicator_nv.loc[s_bound:e_bound, :]\n",
    "\n",
    "    try:\n",
    "        nfis_select=contiguous_regions(nv_select['presence'] == 0)\n",
    "        I_max = (nfis_select.T[1] - nfis_select.T[0]).max()/3600\n",
    "        print(\"\\tI_max = {0:.01f} hours\".format(I_max))\n",
    "        print(\"\\n\\n\")\n",
    "        I_maxs.append(I_max)\n",
    "        \n",
    "    except IndexError:\n",
    "        print(\"no noise-free periods during the timeframe indicated! \\n\\n\")\n",
    "        I_maxs.append(np.nan)\n",
    "\n",
    "longest = pd.DataFrame(np.array([I_maxs]).T, \n",
    "                       index=nvspl_dates, columns=[\"I_max(hrs)\"])\n",
    "longest"
   ]
  },
  {
   "cell_type": "markdown",
   "id": "d60cb77e",
   "metadata": {},
   "source": [
    "### Step Five: plot longest-NFI results for a deployment\n",
    "Scale to length of diurnal period"
   ]
  },
  {
   "cell_type": "code",
   "execution_count": null,
   "id": "ed93de69",
   "metadata": {},
   "outputs": [],
   "source": [
    "period_len = end_bound-start_bound\n",
    "\n",
    "plt.figure(figsize=(12, 2.5))\n",
    "plt.plot(longest.index, longest[\"I_max(hrs)\"], marker=\"o\", ms=3, color=\"k\", ls=\"\")\n",
    "plt.axhline(period_len, ls=\"--\", color=\"gray\", alpha=0.2, zorder=-1)\n",
    "plt.text(longest.index.min(), period_len+0.8, \n",
    "         \"maximum achievable length = {0:.1f} hrs\".format(period_len), \n",
    "         color=\"gray\", alpha=0.4, zorder=-1)\n",
    "plt.ylim([0, period_len + 4])\n",
    "plt.ylabel(\"Maximum Noise-Free\\nInterval Observed (hrs)\", labelpad=15)\n",
    "plt.title(u+s+str(y)+\" maximum diurnal NFI\", loc=\"left\", y=1.04)\n",
    "plt.savefig(r\"C:\\Users\\DBetchkal\\Desktop\\MaximumDiurnalNFI_\"+u+s+str(y)+\".png\",\n",
    "            dpi=150, bbox_inches=\"tight\", facecolor=\"white\")\n",
    "plt.show()\n",
    "\n",
    "# format tabular report\n",
    "print(\"n days observed: {0} days\".format(len(longest)), \"\\n\",\n",
    "      \"min observed: {0:.1f} hours\".format(longest[\"I_max(hrs)\"].min()), \"\\n\",\n",
    "      \"20th percentile: {0:.1f} hours\".format(longest[\"I_max(hrs)\"].quantile(0.2)), \"\\n\",\n",
    "      \"median: {0:.1f} hours\".format(longest[\"I_max(hrs)\"].quantile(0.5)), \"\\n\",\n",
    "      \"mean: {0:.1f} hours\".format(longest[\"I_max(hrs)\"].mean()), \"\\n\",\n",
    "      \"80th percentile: {0:.1f} hours\".format(longest[\"I_max(hrs)\"].quantile(0.8)), \"\\n\",\n",
    "      \"maximum achievable: {0:.1f} hours\".format(period_len), \"\\n\", \n",
    "      \"was achieved?\", (longest[\"I_max(hrs)\"] >= period_len).sum() > 0)"
   ]
  }
 ],
 "metadata": {
  "kernelspec": {
   "display_name": "Python 3",
   "language": "python",
   "name": "python3"
  },
  "language_info": {
   "codemirror_mode": {
    "name": "ipython",
    "version": 3
   },
   "file_extension": ".py",
   "mimetype": "text/x-python",
   "name": "python",
   "nbconvert_exporter": "python",
   "pygments_lexer": "ipython3",
   "version": "3.8.8"
  }
 },
 "nbformat": 4,
 "nbformat_minor": 5
}
